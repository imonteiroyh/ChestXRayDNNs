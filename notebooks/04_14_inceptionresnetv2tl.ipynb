{
 "cells": [
  {
   "cell_type": "code",
   "execution_count": 1,
   "metadata": {},
   "outputs": [],
   "source": [
    "import os\n",
    "import time\n",
    "import torch\n",
    "\n",
    "import numpy as np\n",
    "import pandas as pd\n",
    "from pathlib import Path\n",
    "\n",
    "from fastai.vision.all import *\n",
    "import timm\n",
    "\n",
    "from PIL import Image\n",
    "import matplotlib.pyplot as plt\n",
    "from tqdm.auto import tqdm\n",
    "\n",
    "from xrkit.utilities.seed import seed_everything\n",
    "from xrkit.base import CONFIG\n",
    "from xrkit.models import *\n",
    "from xrkit.data.dataset import NIHDataset\n",
    "from torch.utils.data import DataLoader\n",
    "\n",
    "import pytorch_lightning as L\n",
    "from pytorch_lightning.loggers import MLFlowLogger\n",
    "from pytorch_lightning.callbacks import ModelCheckpoint\n",
    "from pytorch_lightning.callbacks.early_stopping import EarlyStopping\n",
    "\n",
    "from sklearn.metrics import f1_score as skf1_score, classification_report\n",
    "from sklearn.metrics import confusion_matrix, ConfusionMatrixDisplay\n",
    "\n",
    "import matplotlib.pyplot as plt\n",
    "import seaborn as sns\n",
    "\n",
    "from torchmetrics.classification import ROC\n",
    "from torchmetrics.functional import accuracy, auroc, f1_score\n",
    "\n",
    "os.chdir(\"..\")\n",
    "sns.set_theme()\n",
    "torch.set_float32_matmul_precision(\"high\")"
   ]
  },
  {
   "cell_type": "code",
   "execution_count": 2,
   "metadata": {},
   "outputs": [],
   "source": [
    "SEED = 34\n",
    "seed_everything(SEED)"
   ]
  },
  {
   "cell_type": "code",
   "execution_count": 3,
   "metadata": {},
   "outputs": [],
   "source": [
    "data_path = Path(CONFIG.data.chestxray2017_classification.raw_path)\n",
    "\n",
    "train_path = Path(data_path, \"train\")\n",
    "validation_path = Path(data_path, \"val\")\n",
    "test_path = Path(data_path, \"test\")"
   ]
  },
  {
   "cell_type": "code",
   "execution_count": 4,
   "metadata": {},
   "outputs": [
    {
     "name": "stdout",
     "output_type": "stream",
     "text": [
      "(5216, 2)\n"
     ]
    },
    {
     "data": {
      "text/html": [
       "<div>\n",
       "<style scoped>\n",
       "    .dataframe tbody tr th:only-of-type {\n",
       "        vertical-align: middle;\n",
       "    }\n",
       "\n",
       "    .dataframe tbody tr th {\n",
       "        vertical-align: top;\n",
       "    }\n",
       "\n",
       "    .dataframe thead th {\n",
       "        text-align: right;\n",
       "    }\n",
       "</style>\n",
       "<table border=\"1\" class=\"dataframe\">\n",
       "  <thead>\n",
       "    <tr style=\"text-align: right;\">\n",
       "      <th></th>\n",
       "      <th>image</th>\n",
       "      <th>label</th>\n",
       "    </tr>\n",
       "  </thead>\n",
       "  <tbody>\n",
       "    <tr>\n",
       "      <th>0</th>\n",
       "      <td>data/raw/chest_xray/train/PNEUMONIA/person1433_bacteria_3701.jpeg</td>\n",
       "      <td>1</td>\n",
       "    </tr>\n",
       "    <tr>\n",
       "      <th>1</th>\n",
       "      <td>data/raw/chest_xray/train/PNEUMONIA/person440_virus_893.jpeg</td>\n",
       "      <td>1</td>\n",
       "    </tr>\n",
       "    <tr>\n",
       "      <th>2</th>\n",
       "      <td>data/raw/chest_xray/train/PNEUMONIA/person881_virus_1531.jpeg</td>\n",
       "      <td>1</td>\n",
       "    </tr>\n",
       "    <tr>\n",
       "      <th>3</th>\n",
       "      <td>data/raw/chest_xray/train/PNEUMONIA/person1204_bacteria_3156.jpeg</td>\n",
       "      <td>1</td>\n",
       "    </tr>\n",
       "    <tr>\n",
       "      <th>4</th>\n",
       "      <td>data/raw/chest_xray/train/NORMAL/IM-0469-0001.jpeg</td>\n",
       "      <td>0</td>\n",
       "    </tr>\n",
       "  </tbody>\n",
       "</table>\n",
       "</div>"
      ],
      "text/plain": [
       "                                                               image  label\n",
       "0  data/raw/chest_xray/train/PNEUMONIA/person1433_bacteria_3701.jpeg      1\n",
       "1       data/raw/chest_xray/train/PNEUMONIA/person440_virus_893.jpeg      1\n",
       "2      data/raw/chest_xray/train/PNEUMONIA/person881_virus_1531.jpeg      1\n",
       "3  data/raw/chest_xray/train/PNEUMONIA/person1204_bacteria_3156.jpeg      1\n",
       "4                 data/raw/chest_xray/train/NORMAL/IM-0469-0001.jpeg      0"
      ]
     },
     "execution_count": 4,
     "metadata": {},
     "output_type": "execute_result"
    }
   ],
   "source": [
    "normal_cases_path = Path(train_path, \"NORMAL\")\n",
    "pneumonia_cases_path = Path(train_path, \"PNEUMONIA\")\n",
    "\n",
    "normal_cases = normal_cases_path.glob(\"*.jpeg\")\n",
    "pneumonia_cases = pneumonia_cases_path.glob(\"*.jpeg\")\n",
    "\n",
    "train_data = []\n",
    "\n",
    "for image_path in normal_cases:\n",
    "    train_data.append((image_path, 0))\n",
    "\n",
    "for image_path in pneumonia_cases:\n",
    "    train_data.append((image_path, 1))\n",
    "\n",
    "train_data = pd.DataFrame(train_data, columns=[\"image\", \"label\"], index=None)\n",
    "train_data = train_data.sample(frac=1).reset_index(drop=True)\n",
    "\n",
    "print(train_data.shape)\n",
    "train_data.head()"
   ]
  },
  {
   "cell_type": "code",
   "execution_count": 5,
   "metadata": {},
   "outputs": [
    {
     "name": "stdout",
     "output_type": "stream",
     "text": [
      "(16, 2)\n"
     ]
    },
    {
     "data": {
      "text/html": [
       "<div>\n",
       "<style scoped>\n",
       "    .dataframe tbody tr th:only-of-type {\n",
       "        vertical-align: middle;\n",
       "    }\n",
       "\n",
       "    .dataframe tbody tr th {\n",
       "        vertical-align: top;\n",
       "    }\n",
       "\n",
       "    .dataframe thead th {\n",
       "        text-align: right;\n",
       "    }\n",
       "</style>\n",
       "<table border=\"1\" class=\"dataframe\">\n",
       "  <thead>\n",
       "    <tr style=\"text-align: right;\">\n",
       "      <th></th>\n",
       "      <th>image</th>\n",
       "      <th>label</th>\n",
       "    </tr>\n",
       "  </thead>\n",
       "  <tbody>\n",
       "    <tr>\n",
       "      <th>0</th>\n",
       "      <td>data/raw/chest_xray/val/NORMAL/NORMAL2-IM-1440-0001.jpeg</td>\n",
       "      <td>0</td>\n",
       "    </tr>\n",
       "    <tr>\n",
       "      <th>1</th>\n",
       "      <td>data/raw/chest_xray/val/PNEUMONIA/person1954_bacteria_4886.jpeg</td>\n",
       "      <td>1</td>\n",
       "    </tr>\n",
       "    <tr>\n",
       "      <th>2</th>\n",
       "      <td>data/raw/chest_xray/val/PNEUMONIA/person1946_bacteria_4874.jpeg</td>\n",
       "      <td>1</td>\n",
       "    </tr>\n",
       "    <tr>\n",
       "      <th>3</th>\n",
       "      <td>data/raw/chest_xray/val/PNEUMONIA/person1952_bacteria_4883.jpeg</td>\n",
       "      <td>1</td>\n",
       "    </tr>\n",
       "    <tr>\n",
       "      <th>4</th>\n",
       "      <td>data/raw/chest_xray/val/NORMAL/NORMAL2-IM-1437-0001.jpeg</td>\n",
       "      <td>0</td>\n",
       "    </tr>\n",
       "  </tbody>\n",
       "</table>\n",
       "</div>"
      ],
      "text/plain": [
       "                                                             image  label\n",
       "0         data/raw/chest_xray/val/NORMAL/NORMAL2-IM-1440-0001.jpeg      0\n",
       "1  data/raw/chest_xray/val/PNEUMONIA/person1954_bacteria_4886.jpeg      1\n",
       "2  data/raw/chest_xray/val/PNEUMONIA/person1946_bacteria_4874.jpeg      1\n",
       "3  data/raw/chest_xray/val/PNEUMONIA/person1952_bacteria_4883.jpeg      1\n",
       "4         data/raw/chest_xray/val/NORMAL/NORMAL2-IM-1437-0001.jpeg      0"
      ]
     },
     "execution_count": 5,
     "metadata": {},
     "output_type": "execute_result"
    }
   ],
   "source": [
    "normal_cases_path = Path(validation_path, \"NORMAL\")\n",
    "pneumonia_cases_path = Path(validation_path, \"PNEUMONIA\")\n",
    "\n",
    "normal_cases = normal_cases_path.glob(\"*.jpeg\")\n",
    "pneumonia_cases = pneumonia_cases_path.glob(\"*.jpeg\")\n",
    "\n",
    "validation_data = []\n",
    "\n",
    "for image_path in normal_cases:\n",
    "    validation_data.append((image_path, 0))\n",
    "\n",
    "for image_path in pneumonia_cases:\n",
    "    validation_data.append((image_path, 1))\n",
    "\n",
    "validation_data = pd.DataFrame(validation_data, columns=[\"image\", \"label\"], index=None)\n",
    "validation_data = validation_data.sample(frac=1).reset_index(drop=True)\n",
    "\n",
    "print(validation_data.shape)\n",
    "validation_data.head()"
   ]
  },
  {
   "cell_type": "code",
   "execution_count": 6,
   "metadata": {},
   "outputs": [
    {
     "name": "stdout",
     "output_type": "stream",
     "text": [
      "(624, 2)\n"
     ]
    },
    {
     "data": {
      "text/html": [
       "<div>\n",
       "<style scoped>\n",
       "    .dataframe tbody tr th:only-of-type {\n",
       "        vertical-align: middle;\n",
       "    }\n",
       "\n",
       "    .dataframe tbody tr th {\n",
       "        vertical-align: top;\n",
       "    }\n",
       "\n",
       "    .dataframe thead th {\n",
       "        text-align: right;\n",
       "    }\n",
       "</style>\n",
       "<table border=\"1\" class=\"dataframe\">\n",
       "  <thead>\n",
       "    <tr style=\"text-align: right;\">\n",
       "      <th></th>\n",
       "      <th>image</th>\n",
       "      <th>label</th>\n",
       "    </tr>\n",
       "  </thead>\n",
       "  <tbody>\n",
       "    <tr>\n",
       "      <th>0</th>\n",
       "      <td>data/raw/chest_xray/test/PNEUMONIA/person134_bacteria_640.jpeg</td>\n",
       "      <td>1</td>\n",
       "    </tr>\n",
       "    <tr>\n",
       "      <th>1</th>\n",
       "      <td>data/raw/chest_xray/test/NORMAL/NORMAL2-IM-0283-0001.jpeg</td>\n",
       "      <td>0</td>\n",
       "    </tr>\n",
       "    <tr>\n",
       "      <th>2</th>\n",
       "      <td>data/raw/chest_xray/test/NORMAL/NORMAL2-IM-0207-0001.jpeg</td>\n",
       "      <td>0</td>\n",
       "    </tr>\n",
       "    <tr>\n",
       "      <th>3</th>\n",
       "      <td>data/raw/chest_xray/test/PNEUMONIA/person1661_virus_2872.jpeg</td>\n",
       "      <td>1</td>\n",
       "    </tr>\n",
       "    <tr>\n",
       "      <th>4</th>\n",
       "      <td>data/raw/chest_xray/test/NORMAL/NORMAL2-IM-0290-0001.jpeg</td>\n",
       "      <td>0</td>\n",
       "    </tr>\n",
       "  </tbody>\n",
       "</table>\n",
       "</div>"
      ],
      "text/plain": [
       "                                                            image  label\n",
       "0  data/raw/chest_xray/test/PNEUMONIA/person134_bacteria_640.jpeg      1\n",
       "1       data/raw/chest_xray/test/NORMAL/NORMAL2-IM-0283-0001.jpeg      0\n",
       "2       data/raw/chest_xray/test/NORMAL/NORMAL2-IM-0207-0001.jpeg      0\n",
       "3   data/raw/chest_xray/test/PNEUMONIA/person1661_virus_2872.jpeg      1\n",
       "4       data/raw/chest_xray/test/NORMAL/NORMAL2-IM-0290-0001.jpeg      0"
      ]
     },
     "execution_count": 6,
     "metadata": {},
     "output_type": "execute_result"
    }
   ],
   "source": [
    "normal_cases_path = Path(test_path, \"NORMAL\")\n",
    "pneumonia_cases_path = Path(test_path, \"PNEUMONIA\")\n",
    "\n",
    "normal_cases = normal_cases_path.glob(\"*.jpeg\")\n",
    "pneumonia_cases = pneumonia_cases_path.glob(\"*.jpeg\")\n",
    "\n",
    "test_data = []\n",
    "\n",
    "for image_path in normal_cases:\n",
    "    test_data.append((image_path, 0))\n",
    "\n",
    "for image_path in pneumonia_cases:\n",
    "    test_data.append((image_path, 1))\n",
    "\n",
    "test_data = pd.DataFrame(test_data, columns=[\"image\", \"label\"], index=None)\n",
    "test_data = test_data.sample(frac=1).reset_index(drop=True)\n",
    "\n",
    "print(test_data.shape)\n",
    "test_data.head()"
   ]
  },
  {
   "cell_type": "code",
   "execution_count": 7,
   "metadata": {},
   "outputs": [
    {
     "name": "stdout",
     "output_type": "stream",
     "text": [
      "(5232, 2)\n"
     ]
    },
    {
     "data": {
      "text/html": [
       "<div>\n",
       "<style scoped>\n",
       "    .dataframe tbody tr th:only-of-type {\n",
       "        vertical-align: middle;\n",
       "    }\n",
       "\n",
       "    .dataframe tbody tr th {\n",
       "        vertical-align: top;\n",
       "    }\n",
       "\n",
       "    .dataframe thead th {\n",
       "        text-align: right;\n",
       "    }\n",
       "</style>\n",
       "<table border=\"1\" class=\"dataframe\">\n",
       "  <thead>\n",
       "    <tr style=\"text-align: right;\">\n",
       "      <th></th>\n",
       "      <th>image</th>\n",
       "      <th>label</th>\n",
       "    </tr>\n",
       "  </thead>\n",
       "  <tbody>\n",
       "    <tr>\n",
       "      <th>0</th>\n",
       "      <td>data/raw/chest_xray/train/PNEUMONIA/person1433_bacteria_3701.jpeg</td>\n",
       "      <td>1</td>\n",
       "    </tr>\n",
       "    <tr>\n",
       "      <th>1</th>\n",
       "      <td>data/raw/chest_xray/train/PNEUMONIA/person440_virus_893.jpeg</td>\n",
       "      <td>1</td>\n",
       "    </tr>\n",
       "    <tr>\n",
       "      <th>2</th>\n",
       "      <td>data/raw/chest_xray/train/PNEUMONIA/person881_virus_1531.jpeg</td>\n",
       "      <td>1</td>\n",
       "    </tr>\n",
       "    <tr>\n",
       "      <th>3</th>\n",
       "      <td>data/raw/chest_xray/train/PNEUMONIA/person1204_bacteria_3156.jpeg</td>\n",
       "      <td>1</td>\n",
       "    </tr>\n",
       "    <tr>\n",
       "      <th>4</th>\n",
       "      <td>data/raw/chest_xray/train/NORMAL/IM-0469-0001.jpeg</td>\n",
       "      <td>0</td>\n",
       "    </tr>\n",
       "  </tbody>\n",
       "</table>\n",
       "</div>"
      ],
      "text/plain": [
       "                                                               image  label\n",
       "0  data/raw/chest_xray/train/PNEUMONIA/person1433_bacteria_3701.jpeg      1\n",
       "1       data/raw/chest_xray/train/PNEUMONIA/person440_virus_893.jpeg      1\n",
       "2      data/raw/chest_xray/train/PNEUMONIA/person881_virus_1531.jpeg      1\n",
       "3  data/raw/chest_xray/train/PNEUMONIA/person1204_bacteria_3156.jpeg      1\n",
       "4                 data/raw/chest_xray/train/NORMAL/IM-0469-0001.jpeg      0"
      ]
     },
     "execution_count": 7,
     "metadata": {},
     "output_type": "execute_result"
    }
   ],
   "source": [
    "train_validation_data = pd.concat([train_data, validation_data]).reset_index(drop=True)\n",
    "validation_indices = train_validation_data[-len(validation_data) :].index.tolist()\n",
    "\n",
    "print(train_validation_data.shape)\n",
    "train_validation_data.head()"
   ]
  },
  {
   "cell_type": "code",
   "execution_count": 8,
   "metadata": {},
   "outputs": [],
   "source": [
    "item_transforms = [\n",
    "    Resize((224, 224)),\n",
    "]\n",
    "\n",
    "batch_transforms = [\n",
    "    Normalize.from_stats(*imagenet_stats),\n",
    "]\n",
    "\n",
    "\n",
    "def get_x(row):\n",
    "    return row[\"image\"]\n",
    "\n",
    "\n",
    "def get_y(row):\n",
    "    return row[\"label\"]\n",
    "\n",
    "\n",
    "train_validation_data_block = DataBlock(\n",
    "    blocks=(ImageBlock, MultiCategoryBlock(encoded=True, vocab=[\"Pneumonia\"])),\n",
    "    splitter=IndexSplitter(validation_indices),\n",
    "    get_x=get_x,\n",
    "    get_y=get_y,\n",
    "    item_tfms=item_transforms,\n",
    "    batch_tfms=batch_transforms,\n",
    ")\n",
    "\n",
    "train_validation_dataloader = train_validation_data_block.dataloaders(\n",
    "    train_validation_data, bs=CONFIG.base.batch_size\n",
    ")\n",
    "\n",
    "test_data_block = DataBlock(\n",
    "    blocks=(ImageBlock, MultiCategoryBlock(encoded=True, vocab=[\"Pneumonia\"])),\n",
    "    splitter=RandomSplitter(valid_pct=0, seed=SEED),\n",
    "    get_x=get_x,\n",
    "    get_y=get_y,\n",
    "    item_tfms=item_transforms,\n",
    "    batch_tfms=batch_transforms,\n",
    ")\n",
    "\n",
    "test_dataloader = test_data_block.dataloaders(test_data, bs=CONFIG.base.batch_size)"
   ]
  },
  {
   "cell_type": "code",
   "execution_count": 9,
   "metadata": {},
   "outputs": [],
   "source": [
    "callbacks = [\n",
    "    SaveModelCallback(monitor=\"valid_loss\", min_delta=0.0001, with_opt=True),\n",
    "    EarlyStoppingCallback(monitor=\"valid_loss\", min_delta=0.0001, patience=10),\n",
    "    ShowGraphCallback(),\n",
    "]\n",
    "\n",
    "network = \"inception_resnet_v2\"\n",
    "\n",
    "learn = vision_learner(\n",
    "    train_validation_dataloader,\n",
    "    network,\n",
    "    pretrained=True,\n",
    "    metrics=[accuracy_multi, F1ScoreMulti(), RocAucMulti()],\n",
    "    cbs=callbacks,\n",
    "    wd=0.1,\n",
    ")\n",
    "\n",
    "learn.model = torch.nn.DataParallel(learn.model)"
   ]
  },
  {
   "cell_type": "code",
   "execution_count": 10,
   "metadata": {},
   "outputs": [
    {
     "data": {
      "text/html": [
       "\n",
       "<style>\n",
       "    /* Turns off some styling */\n",
       "    progress {\n",
       "        /* gets rid of default border in Firefox and Opera. */\n",
       "        border: none;\n",
       "        /* Needs to be in here for Safari polyfill so background images work as expected. */\n",
       "        background-size: auto;\n",
       "    }\n",
       "    progress:not([value]), progress:not([value])::-webkit-progress-bar {\n",
       "        background: repeating-linear-gradient(45deg, #7e7e7e, #7e7e7e 10px, #5c5c5c 10px, #5c5c5c 20px);\n",
       "    }\n",
       "    .progress-bar-interrupted, .progress-bar-interrupted::-webkit-progress-bar {\n",
       "        background: #F44336;\n",
       "    }\n",
       "</style>\n"
      ],
      "text/plain": [
       "<IPython.core.display.HTML object>"
      ]
     },
     "metadata": {},
     "output_type": "display_data"
    },
    {
     "data": {
      "text/html": [],
      "text/plain": [
       "<IPython.core.display.HTML object>"
      ]
     },
     "metadata": {},
     "output_type": "display_data"
    },
    {
     "name": "stdout",
     "output_type": "stream",
     "text": [
      "Initial Learning Rate: 0.00363078061491251\n"
     ]
    },
    {
     "data": {
      "image/png": "[encoded data removed]",
      "text/plain": [
       "<Figure size 640x480 with 1 Axes>"
      ]
     },
     "metadata": {},
     "output_type": "display_data"
    }
   ],
   "source": [
    "lrs = learn.lr_find(suggest_funcs=(minimum, steep, valley, slide))\n",
    "print(\"Initial Learning Rate:\", lrs.valley)"
   ]
  },
  {
   "cell_type": "code",
   "execution_count": 11,
   "metadata": {},
   "outputs": [
    {
     "data": {
      "text/html": [
       "\n",
       "<style>\n",
       "    /* Turns off some styling */\n",
       "    progress {\n",
       "        /* gets rid of default border in Firefox and Opera. */\n",
       "        border: none;\n",
       "        /* Needs to be in here for Safari polyfill so background images work as expected. */\n",
       "        background-size: auto;\n",
       "    }\n",
       "    progress:not([value]), progress:not([value])::-webkit-progress-bar {\n",
       "        background: repeating-linear-gradient(45deg, #7e7e7e, #7e7e7e 10px, #5c5c5c 10px, #5c5c5c 20px);\n",
       "    }\n",
       "    .progress-bar-interrupted, .progress-bar-interrupted::-webkit-progress-bar {\n",
       "        background: #F44336;\n",
       "    }\n",
       "</style>\n"
      ],
      "text/plain": [
       "<IPython.core.display.HTML object>"
      ]
     },
     "metadata": {},
     "output_type": "display_data"
    },
    {
     "data": {
      "text/html": [
       "<table border=\"1\" class=\"dataframe\">\n",
       "  <thead>\n",
       "    <tr style=\"text-align: left;\">\n",
       "      <th>epoch</th>\n",
       "      <th>train_loss</th>\n",
       "      <th>valid_loss</th>\n",
       "      <th>accuracy_multi</th>\n",
       "      <th>f1_score</th>\n",
       "      <th>roc_auc_score</th>\n",
       "      <th>time</th>\n",
       "    </tr>\n",
       "  </thead>\n",
       "  <tbody>\n",
       "    <tr>\n",
       "      <td>0</td>\n",
       "      <td>0.369770</td>\n",
       "      <td>0.637958</td>\n",
       "      <td>0.750000</td>\n",
       "      <td>0.746032</td>\n",
       "      <td>0.796875</td>\n",
       "      <td>00:58</td>\n",
       "    </tr>\n",
       "    <tr>\n",
       "      <td>1</td>\n",
       "      <td>0.308032</td>\n",
       "      <td>0.593933</td>\n",
       "      <td>0.750000</td>\n",
       "      <td>0.733333</td>\n",
       "      <td>0.890625</td>\n",
       "      <td>00:59</td>\n",
       "    </tr>\n",
       "    <tr>\n",
       "      <td>2</td>\n",
       "      <td>0.262809</td>\n",
       "      <td>0.643643</td>\n",
       "      <td>0.812500</td>\n",
       "      <td>0.805668</td>\n",
       "      <td>0.937500</td>\n",
       "      <td>00:58</td>\n",
       "    </tr>\n",
       "    <tr>\n",
       "      <td>3</td>\n",
       "      <td>0.237173</td>\n",
       "      <td>0.525323</td>\n",
       "      <td>0.750000</td>\n",
       "      <td>0.733333</td>\n",
       "      <td>0.937500</td>\n",
       "      <td>00:58</td>\n",
       "    </tr>\n",
       "    <tr>\n",
       "      <td>4</td>\n",
       "      <td>0.192053</td>\n",
       "      <td>0.702802</td>\n",
       "      <td>0.750000</td>\n",
       "      <td>0.733333</td>\n",
       "      <td>0.859375</td>\n",
       "      <td>00:57</td>\n",
       "    </tr>\n",
       "    <tr>\n",
       "      <td>5</td>\n",
       "      <td>0.195405</td>\n",
       "      <td>0.554990</td>\n",
       "      <td>0.750000</td>\n",
       "      <td>0.733333</td>\n",
       "      <td>0.937500</td>\n",
       "      <td>00:57</td>\n",
       "    </tr>\n",
       "    <tr>\n",
       "      <td>6</td>\n",
       "      <td>0.232899</td>\n",
       "      <td>0.538460</td>\n",
       "      <td>0.625000</td>\n",
       "      <td>0.563636</td>\n",
       "      <td>0.968750</td>\n",
       "      <td>00:57</td>\n",
       "    </tr>\n",
       "    <tr>\n",
       "      <td>7</td>\n",
       "      <td>0.172174</td>\n",
       "      <td>0.451898</td>\n",
       "      <td>0.750000</td>\n",
       "      <td>0.733333</td>\n",
       "      <td>0.984375</td>\n",
       "      <td>00:57</td>\n",
       "    </tr>\n",
       "    <tr>\n",
       "      <td>8</td>\n",
       "      <td>0.162888</td>\n",
       "      <td>0.216543</td>\n",
       "      <td>0.875000</td>\n",
       "      <td>0.873016</td>\n",
       "      <td>1.000000</td>\n",
       "      <td>00:57</td>\n",
       "    </tr>\n",
       "    <tr>\n",
       "      <td>9</td>\n",
       "      <td>0.171992</td>\n",
       "      <td>0.323494</td>\n",
       "      <td>0.812500</td>\n",
       "      <td>0.805668</td>\n",
       "      <td>0.984375</td>\n",
       "      <td>00:57</td>\n",
       "    </tr>\n",
       "  </tbody>\n",
       "</table>"
      ],
      "text/plain": [
       "<IPython.core.display.HTML object>"
      ]
     },
     "metadata": {},
     "output_type": "display_data"
    },
    {
     "name": "stdout",
     "output_type": "stream",
     "text": [
      "Better model found at epoch 0 with valid_loss value: 0.6379581689834595.\n"
     ]
    },
    {
     "data": {
      "image/png": "[encoded data removed]",
      "text/plain": [
       "<Figure size 600x400 with 1 Axes>"
      ]
     },
     "metadata": {},
     "output_type": "display_data"
    },
    {
     "name": "stdout",
     "output_type": "stream",
     "text": [
      "Better model found at epoch 1 with valid_loss value: 0.5939334630966187.\n",
      "Better model found at epoch 3 with valid_loss value: 0.5253229141235352.\n",
      "Better model found at epoch 7 with valid_loss value: 0.451897531747818.\n",
      "Better model found at epoch 8 with valid_loss value: 0.21654298901557922.\n"
     ]
    },
    {
     "data": {
      "text/html": [
       "\n",
       "<style>\n",
       "    /* Turns off some styling */\n",
       "    progress {\n",
       "        /* gets rid of default border in Firefox and Opera. */\n",
       "        border: none;\n",
       "        /* Needs to be in here for Safari polyfill so background images work as expected. */\n",
       "        background-size: auto;\n",
       "    }\n",
       "    progress:not([value]), progress:not([value])::-webkit-progress-bar {\n",
       "        background: repeating-linear-gradient(45deg, #7e7e7e, #7e7e7e 10px, #5c5c5c 10px, #5c5c5c 20px);\n",
       "    }\n",
       "    .progress-bar-interrupted, .progress-bar-interrupted::-webkit-progress-bar {\n",
       "        background: #F44336;\n",
       "    }\n",
       "</style>\n"
      ],
      "text/plain": [
       "<IPython.core.display.HTML object>"
      ]
     },
     "metadata": {},
     "output_type": "display_data"
    },
    {
     "data": {
      "text/html": [
       "<table border=\"1\" class=\"dataframe\">\n",
       "  <thead>\n",
       "    <tr style=\"text-align: left;\">\n",
       "      <th>epoch</th>\n",
       "      <th>train_loss</th>\n",
       "      <th>valid_loss</th>\n",
       "      <th>accuracy_multi</th>\n",
       "      <th>f1_score</th>\n",
       "      <th>roc_auc_score</th>\n",
       "      <th>time</th>\n",
       "    </tr>\n",
       "  </thead>\n",
       "  <tbody>\n",
       "    <tr>\n",
       "      <td>0</td>\n",
       "      <td>0.109925</td>\n",
       "      <td>0.510710</td>\n",
       "      <td>0.687500</td>\n",
       "      <td>0.653680</td>\n",
       "      <td>0.984375</td>\n",
       "      <td>01:28</td>\n",
       "    </tr>\n",
       "    <tr>\n",
       "      <td>1</td>\n",
       "      <td>0.121336</td>\n",
       "      <td>0.272021</td>\n",
       "      <td>0.937500</td>\n",
       "      <td>0.937255</td>\n",
       "      <td>1.000000</td>\n",
       "      <td>01:27</td>\n",
       "    </tr>\n",
       "    <tr>\n",
       "      <td>2</td>\n",
       "      <td>0.095860</td>\n",
       "      <td>0.587881</td>\n",
       "      <td>0.625000</td>\n",
       "      <td>0.563636</td>\n",
       "      <td>1.000000</td>\n",
       "      <td>01:27</td>\n",
       "    </tr>\n",
       "    <tr>\n",
       "      <td>3</td>\n",
       "      <td>0.075601</td>\n",
       "      <td>0.406256</td>\n",
       "      <td>0.687500</td>\n",
       "      <td>0.653680</td>\n",
       "      <td>1.000000</td>\n",
       "      <td>01:27</td>\n",
       "    </tr>\n",
       "    <tr>\n",
       "      <td>4</td>\n",
       "      <td>0.079300</td>\n",
       "      <td>0.482905</td>\n",
       "      <td>0.812500</td>\n",
       "      <td>0.805668</td>\n",
       "      <td>1.000000</td>\n",
       "      <td>01:27</td>\n",
       "    </tr>\n",
       "    <tr>\n",
       "      <td>5</td>\n",
       "      <td>0.082914</td>\n",
       "      <td>0.529753</td>\n",
       "      <td>0.625000</td>\n",
       "      <td>0.563636</td>\n",
       "      <td>1.000000</td>\n",
       "      <td>01:27</td>\n",
       "    </tr>\n",
       "    <tr>\n",
       "      <td>6</td>\n",
       "      <td>0.056371</td>\n",
       "      <td>0.339193</td>\n",
       "      <td>0.812500</td>\n",
       "      <td>0.805668</td>\n",
       "      <td>1.000000</td>\n",
       "      <td>01:27</td>\n",
       "    </tr>\n",
       "    <tr>\n",
       "      <td>7</td>\n",
       "      <td>0.043957</td>\n",
       "      <td>0.470135</td>\n",
       "      <td>0.812500</td>\n",
       "      <td>0.805668</td>\n",
       "      <td>1.000000</td>\n",
       "      <td>01:27</td>\n",
       "    </tr>\n",
       "    <tr>\n",
       "      <td>8</td>\n",
       "      <td>0.050565</td>\n",
       "      <td>0.977209</td>\n",
       "      <td>0.625000</td>\n",
       "      <td>0.563636</td>\n",
       "      <td>0.968750</td>\n",
       "      <td>01:27</td>\n",
       "    </tr>\n",
       "    <tr>\n",
       "      <td>9</td>\n",
       "      <td>0.051023</td>\n",
       "      <td>0.621167</td>\n",
       "      <td>0.750000</td>\n",
       "      <td>0.733333</td>\n",
       "      <td>0.984375</td>\n",
       "      <td>01:27</td>\n",
       "    </tr>\n",
       "    <tr>\n",
       "      <td>10</td>\n",
       "      <td>0.033976</td>\n",
       "      <td>0.479994</td>\n",
       "      <td>0.750000</td>\n",
       "      <td>0.733333</td>\n",
       "      <td>1.000000</td>\n",
       "      <td>01:27</td>\n",
       "    </tr>\n",
       "    <tr>\n",
       "      <td>11</td>\n",
       "      <td>0.026899</td>\n",
       "      <td>0.592573</td>\n",
       "      <td>0.750000</td>\n",
       "      <td>0.733333</td>\n",
       "      <td>0.984375</td>\n",
       "      <td>01:27</td>\n",
       "    </tr>\n",
       "  </tbody>\n",
       "</table>"
      ],
      "text/plain": [
       "<IPython.core.display.HTML object>"
      ]
     },
     "metadata": {},
     "output_type": "display_data"
    },
    {
     "name": "stdout",
     "output_type": "stream",
     "text": [
      "Better model found at epoch 0 with valid_loss value: 0.5107099413871765.\n"
     ]
    },
    {
     "data": {
      "image/png": "[encoded data removed]",
      "text/plain": [
       "<Figure size 600x400 with 1 Axes>"
      ]
     },
     "metadata": {},
     "output_type": "display_data"
    },
    {
     "name": "stdout",
     "output_type": "stream",
     "text": [
      "Better model found at epoch 1 with valid_loss value: 0.27202120423316956.\n",
      "No improvement since epoch 1: early stopping\n"
     ]
    }
   ],
   "source": [
    "n_epochs = 100\n",
    "\n",
    "start_training_time = time.time()\n",
    "learn.fine_tune(freeze_epochs=10, epochs=n_epochs, base_lr=lrs.valley)\n",
    "end_training_time = time.time()"
   ]
  },
  {
   "cell_type": "code",
   "execution_count": 12,
   "metadata": {},
   "outputs": [
    {
     "data": {
      "text/plain": [
       "Path('models/inceptionresnetv2tl.pth')"
      ]
     },
     "execution_count": 12,
     "metadata": {},
     "output_type": "execute_result"
    }
   ],
   "source": [
    "learn.save(\"inceptionresnetv2tl\")"
   ]
  },
  {
   "cell_type": "code",
   "execution_count": 13,
   "metadata": {},
   "outputs": [
    {
     "data": {
      "text/html": [
       "\n",
       "<style>\n",
       "    /* Turns off some styling */\n",
       "    progress {\n",
       "        /* gets rid of default border in Firefox and Opera. */\n",
       "        border: none;\n",
       "        /* Needs to be in here for Safari polyfill so background images work as expected. */\n",
       "        background-size: auto;\n",
       "    }\n",
       "    progress:not([value]), progress:not([value])::-webkit-progress-bar {\n",
       "        background: repeating-linear-gradient(45deg, #7e7e7e, #7e7e7e 10px, #5c5c5c 10px, #5c5c5c 20px);\n",
       "    }\n",
       "    .progress-bar-interrupted, .progress-bar-interrupted::-webkit-progress-bar {\n",
       "        background: #F44336;\n",
       "    }\n",
       "</style>\n"
      ],
      "text/plain": [
       "<IPython.core.display.HTML object>"
      ]
     },
     "metadata": {},
     "output_type": "display_data"
    },
    {
     "data": {
      "text/html": [],
      "text/plain": [
       "<IPython.core.display.HTML object>"
      ]
     },
     "metadata": {},
     "output_type": "display_data"
    }
   ],
   "source": [
    "learner = vision_learner(test_dataloader, network, metrics=[accuracy_multi, F1ScoreMulti(), RocAucMulti()])\n",
    "learner.model = torch.nn.DataParallel(learner.model)\n",
    "\n",
    "learner.load(\"inceptionresnetv2tl\")\n",
    "learner.to(\"cuda\")\n",
    "\n",
    "learner.freeze()\n",
    "\n",
    "start_testing_time = time.time()\n",
    "predictions, targets = learner.get_preds(ds_idx=0)\n",
    "end_testing_time = time.time()"
   ]
  },
  {
   "cell_type": "code",
   "execution_count": 14,
   "metadata": {},
   "outputs": [],
   "source": [
    "kwargs = {\"preds\": predictions[:, 0], \"target\": targets.int(), \"task\": \"binary\"}"
   ]
  },
  {
   "cell_type": "code",
   "execution_count": 15,
   "metadata": {},
   "outputs": [
    {
     "name": "stdout",
     "output_type": "stream",
     "text": [
      "Tempo de treinamento: 1646.8 segundos\n",
      "Tempo de teste: 1.1 segundos\n"
     ]
    }
   ],
   "source": [
    "print(f\"Tempo de treinamento: {(end_training_time - start_training_time):.1f} segundos\")\n",
    "print(f\"Tempo de teste: {(end_testing_time - start_testing_time) / 4:.1f} segundos\")"
   ]
  },
  {
   "cell_type": "code",
   "execution_count": 16,
   "metadata": {},
   "outputs": [
    {
     "name": "stdout",
     "output_type": "stream",
     "text": [
      "              precision    recall  f1-score   support\n",
      "\n",
      "      Normal     0.9543    0.7137    0.8166       234\n",
      "   Pneumonia     0.8508    0.9795    0.9106       390\n",
      "\n",
      "    accuracy                         0.8798       624\n",
      "   macro avg     0.9025    0.8466    0.8636       624\n",
      "weighted avg     0.8896    0.8798    0.8754       624\n",
      "\n"
     ]
    }
   ],
   "source": [
    "print(\n",
    "    classification_report(\n",
    "        kwargs[\"target\"], kwargs[\"preds\"] > 0.5, target_names=[\"Normal\", \"Pneumonia\"], digits=4\n",
    "    )\n",
    ")"
   ]
  },
  {
   "cell_type": "code",
   "execution_count": 17,
   "metadata": {},
   "outputs": [
    {
     "name": "stdout",
     "output_type": "stream",
     "text": [
      "Global F1 Score: 0.911\n",
      "Class F1 Score: [0.817 0.911]\n",
      "Global Accuracy: 0.88\n",
      "Global AUROC: 0.932\n"
     ]
    }
   ],
   "source": [
    "print(\"Global F1 Score:\", np.round(f1_score(**kwargs, average=\"macro\").item(), 3))\n",
    "print(\n",
    "    \"Class F1 Score:\", np.round(skf1_score(kwargs[\"target\"], kwargs[\"preds\"] > 0.5, average=None).tolist(), 3)\n",
    ")\n",
    "print(\"Global Accuracy:\", np.round(accuracy(**kwargs, average=\"macro\").item(), 3))\n",
    "print(\"Global AUROC:\", np.round(auroc(**kwargs, average=\"macro\").item(), 3))"
   ]
  },
  {
   "cell_type": "code",
   "execution_count": 18,
   "metadata": {},
   "outputs": [
    {
     "data": {
      "image/png": "[encoded data removed]",
      "text/plain": [
       "<Figure size 700x700 with 1 Axes>"
      ]
     },
     "metadata": {},
     "output_type": "display_data"
    }
   ],
   "source": [
    "roc = ROC(task=\"binary\")\n",
    "roc(kwargs[\"preds\"], kwargs[\"target\"])\n",
    "_, axis = plt.subplots(figsize=(7, 7))\n",
    "roc.plot(score=True, ax=axis)\n",
    "handles, current_labels = axis.get_legend_handles_labels()\n",
    "\n",
    "plt.title(\"ROC\")\n",
    "\n",
    "plt.tight_layout()\n",
    "plt.show()"
   ]
  },
  {
   "cell_type": "code",
   "execution_count": 19,
   "metadata": {},
   "outputs": [
    {
     "data": {
      "image/png": "[encoded data removed]",
      "text/plain": [
       "<Figure size 700x700 with 2 Axes>"
      ]
     },
     "metadata": {},
     "output_type": "display_data"
    }
   ],
   "source": [
    "_, axes = plt.subplots(figsize=(7, 7))\n",
    "\n",
    "disp = ConfusionMatrixDisplay(confusion_matrix(kwargs[\"target\"], kwargs[\"preds\"] > 0.5))\n",
    "disp.plot(ax=axes, cmap=\"Blues\")\n",
    "\n",
    "plt.grid(False)\n",
    "\n",
    "plt.show()"
   ]
  }
 ],
 "metadata": {
  "kernelspec": {
   "display_name": "aiw",
   "language": "python",
   "name": "python3"
  },
  "language_info": {
   "codemirror_mode": {
    "name": "ipython",
    "version": 3
   },
   "file_extension": ".py",
   "mimetype": "text/x-python",
   "name": "python",
   "nbconvert_exporter": "python",
   "pygments_lexer": "ipython3",
   "version": "3.11.9"
  }
 },
 "nbformat": 4,
 "nbformat_minor": 2
}
